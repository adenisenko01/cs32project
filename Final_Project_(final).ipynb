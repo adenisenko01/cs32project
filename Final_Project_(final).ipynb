{
  "nbformat": 4,
  "nbformat_minor": 0,
  "metadata": {
    "colab": {
      "name": "Final Project (final).ipynb",
      "provenance": [],
      "collapsed_sections": [],
      "authorship_tag": "ABX9TyMitXae24vr2iPMlH1mTyUO",
      "include_colab_link": true
    },
    "kernelspec": {
      "name": "python3",
      "display_name": "Python 3"
    },
    "language_info": {
      "name": "python"
    }
  },
  "cells": [
    {
      "cell_type": "markdown",
      "metadata": {
        "id": "view-in-github",
        "colab_type": "text"
      },
      "source": [
        "<a href=\"https://colab.research.google.com/github/adenisenko01/cs32project/blob/main/Final_Project_(final).ipynb\" target=\"_parent\"><img src=\"https://colab.research.google.com/assets/colab-badge.svg\" alt=\"Open In Colab\"/></a>"
      ]
    },
    {
      "cell_type": "code",
      "execution_count": null,
      "metadata": {
        "id": "mQbHfHQrsKvs"
      },
      "outputs": [],
      "source": [
        "import pandas as pd\n",
        "import numpy as np\n",
        "import matplotlib.pyplot as plt\n",
        "import seaborn as sns"
      ]
    },
    {
      "cell_type": "code",
      "source": [
        "ds = pd.read_csv('https://raw.githubusercontent.com/adenisenko01/cs32project/main/CS32%20project%20with%20norm%20-%20Sheet1%20(1).csv')\n",
        "print(ds)"
      ],
      "metadata": {
        "id": "IHmyAB1iyb6J",
        "colab": {
          "base_uri": "https://localhost:8080/"
        },
        "outputId": "3c804337-929e-4ab1-ca3f-05719c2865f1"
      },
      "execution_count": null,
      "outputs": [
        {
          "output_type": "stream",
          "name": "stdout",
          "text": [
            "     Age  Gender  Weight  Resting HR  Athletic Goal  Outcome\n",
            "0     28       1     147          88              2      266\n",
            "1     45       0     134          87              1      267\n",
            "2     58       1     183          89              2      333\n",
            "3     21       1     154          89              1      266\n",
            "4     53       1     130          92              0      276\n",
            "..   ...     ...     ...         ...            ...      ...\n",
            "994   40       0     172          54              2      268\n",
            "995   41       1     166          84              2      294\n",
            "996   46       0     145          70              0      261\n",
            "997   26       0     188          69              2      285\n",
            "998   30       0     208          83              2      323\n",
            "\n",
            "[999 rows x 6 columns]\n"
          ]
        }
      ]
    },
    {
      "cell_type": "code",
      "source": [
        "fig, ax = plt.subplots(1, 5, figsize = (16, 6))\n",
        "axes = ax.ravel()\n",
        "\n",
        "axes[0].hist(ds['Age'], color = 'red')\n",
        "axes[0].set_title('Age Distribution')\n",
        "axes[0].set_xlabel('Age Units')\n",
        "axes[0].set_ylabel('Counts')\n",
        "axes[1].hist(ds['Gender'], color = 'green')\n",
        "axes[1].set_title('Gender')\n",
        "axes[1].set_xlabel('Male/Female')\n",
        "axes[1].set_ylabel('Counts')\n",
        "axes[2].hist(ds['Weight'], color = 'orange')\n",
        "axes[2].set_title('Weight Distribution')\n",
        "axes[2].set_xlabel('lbs')\n",
        "axes[2].set_ylabel('Count')\n",
        "axes[3].hist(ds['Resting HR'], color = 'purple')\n",
        "axes[3].set_title('Heart Rate in Rest')\n",
        "axes[3].set_xlabel('Beats')\n",
        "axes[3].set_ylabel('Count')\n",
        "axes[4].hist(ds['Athletic Goal'], color = 'black')\n",
        "axes[4].set_title('Athletic Goal')\n",
        "axes[4].set_xlabel('Intensity Levels')\n",
        "axes[4].set_ylabel('Count')"
      ],
      "metadata": {
        "colab": {
          "base_uri": "https://localhost:8080/",
          "height": 422
        },
        "id": "Dn6FKPMtzzmv",
        "outputId": "d0409239-68d7-4564-b26b-096b750b244b"
      },
      "execution_count": null,
      "outputs": [
        {
          "output_type": "execute_result",
          "data": {
            "text/plain": [
              "Text(0, 0.5, 'Count')"
            ]
          },
          "metadata": {},
          "execution_count": 144
        },
        {
          "output_type": "display_data",
          "data": {
            "text/plain": [
              "<Figure size 1152x432 with 5 Axes>"
            ],
            "image/png": "[encoded data removed]"
          },
          "metadata": {
            "needs_background": "light"
          }
        }
      ]
    },
    {
      "cell_type": "code",
      "source": [
        "# by finding standart deviation of each parameter in the dataset we are able to sort people in different 'classes' and assign them scores.\n",
        "def std_dev_finder(x):\n",
        "  mean = np.mean(x) \n",
        "  std = np.std(x)\n",
        "  return mean, std\n",
        "\n",
        "\n",
        "mw,sw = std_dev_finder(ds['Weight'])\n",
        "ma,sa = std_dev_finder(ds['Age'])\n",
        "mhr,shr = std_dev_finder(ds['Resting HR'])\n"
      ],
      "metadata": {
        "id": "GqUxXyn8y-SG"
      },
      "execution_count": null,
      "outputs": []
    },
    {
      "cell_type": "code",
      "source": [
        "ds.drop('Outcome', inplace=True, axis=1)\n",
        "print(ds)"
      ],
      "metadata": {
        "colab": {
          "base_uri": "https://localhost:8080/"
        },
        "id": "baLzD7vyXr42",
        "outputId": "a734e7a9-4ca3-483e-c017-f3142c2098d8"
      },
      "execution_count": null,
      "outputs": [
        {
          "output_type": "stream",
          "name": "stdout",
          "text": [
            "     Age  Gender  Weight  Resting HR  Athletic Goal\n",
            "0     28       1     147          88              2\n",
            "1     45       0     134          87              1\n",
            "2     58       1     183          89              2\n",
            "3     21       1     154          89              1\n",
            "4     53       1     130          92              0\n",
            "..   ...     ...     ...         ...            ...\n",
            "994   40       0     172          54              2\n",
            "995   41       1     166          84              2\n",
            "996   46       0     145          70              0\n",
            "997   26       0     188          69              2\n",
            "998   30       0     208          83              2\n",
            "\n",
            "[999 rows x 5 columns]\n"
          ]
        }
      ]
    },
    {
      "cell_type": "code",
      "source": [
        "workout = []\n",
        "fin_outcome = []\n",
        "\n",
        "for i in range(999):\n",
        "  outcome = []\n",
        "\n",
        "# lower the final score, harder the workout\n",
        "\n",
        "  if np.abs(ds['Weight'][i] - mw) < sw:\n",
        "    outcome.append(10)\n",
        "  elif np.abs(ds['Weight'][i] - mw) < 2*sw:\n",
        "    outcome.append(20)\n",
        "  elif np.abs(ds['Weight'][i] - mw) < 3*sw:\n",
        "    outcome.append(30)\n",
        "  else:\n",
        "    outcome.append(40)\n",
        "\n",
        "  if np.abs(ds['Age'][i] - ma) < sa:\n",
        "    outcome.append(10)\n",
        "  elif np.abs(ds['Age'][i] - ma) < 2*sa:\n",
        "    outcome.append(20)\n",
        "  elif np.abs(ds['Age'][i] - ma) < 2*sa:\n",
        "    outcome.append(30)\n",
        "  else:\n",
        "    outcome.append(40)\n",
        "\n",
        "  if np.abs(ds['Resting HR'][i] - mhr) < shr:\n",
        "    outcome.append(10)\n",
        "  elif np.abs(ds['Resting HR'][i] - mhr) < 2*shr:\n",
        "    outcome.append(20)\n",
        "  elif np.abs(ds['Resting HR'][i] - mhr) < 3*shr:\n",
        "    outcome.append(30)\n",
        "  else:\n",
        "    outcome.append(40)\n",
        "  \n",
        "  # female is 1\n",
        "  if ds['Gender'][i] > 0:\n",
        "    outcome.append(5)\n",
        "  else: \n",
        "    outcome.append(0)\n",
        "\n",
        "  if ds['Athletic Goal'][i] == 0:\n",
        "    outcome.append(20)\n",
        "  elif ds['Athletic Goal'][i] == 1:\n",
        "    outcome.append(10)\n",
        "  else:\n",
        "    outcome.append(0)\n",
        "\n",
        "  final_outcome = sum(outcome)\n",
        "  fin_outcome.append(final_outcome)\n",
        "\n",
        "\n",
        "  if final_outcome in range(0,40):\n",
        "    workout.append(5) \n",
        "  if final_outcome in range(40,60):\n",
        "    workout.append(4)\n",
        "  if final_outcome in range(60,80):\n",
        "    workout.append(3)\n",
        "  if final_outcome in range(80,105):\n",
        "    workout.append(2)\n",
        "  if final_outcome in range(105,200):\n",
        "    workout.append(1)\n",
        "\n",
        "print(\"final_outcome: \", fin_outcome)\n",
        "print(\"list of workouts: \", workout)\n",
        "\n",
        "\n"
      ],
      "metadata": {
        "id": "Ugk9SAp54rN4",
        "colab": {
          "base_uri": "https://localhost:8080/"
        },
        "outputId": "de43af3c-2ff0-4147-95ca-2f9bfd239650"
      },
      "execution_count": null,
      "outputs": [
        {
          "output_type": "stream",
          "name": "stdout",
          "text": [
            "final_outcome:  [35, 50, 45, 55, 75, 75, 70, 35, 60, 55, 65, 60, 40, 70, 50, 30, 30, 70, 85, 40, 60, 40, 50, 40, 80, 65, 45, 50, 55, 70, 55, 75, 30, 55, 60, 45, 55, 60, 50, 70, 65, 55, 45, 50, 40, 85, 45, 45, 65, 55, 80, 75, 55, 40, 50, 55, 30, 40, 75, 65, 60, 55, 75, 70, 55, 55, 55, 55, 55, 50, 75, 65, 55, 75, 55, 75, 75, 65, 60, 55, 85, 60, 60, 30, 55, 50, 75, 50, 45, 65, 45, 75, 65, 55, 50, 65, 45, 65, 60, 50, 55, 65, 40, 65, 45, 40, 55, 55, 70, 60, 70, 50, 50, 60, 55, 55, 50, 75, 40, 60, 45, 75, 50, 75, 50, 65, 30, 30, 50, 55, 55, 55, 60, 45, 45, 40, 45, 45, 45, 40, 65, 50, 55, 60, 45, 60, 50, 55, 45, 65, 75, 40, 65, 50, 70, 55, 55, 70, 50, 65, 60, 65, 40, 65, 80, 50, 50, 65, 70, 40, 65, 55, 60, 75, 60, 60, 45, 85, 50, 35, 40, 65, 55, 45, 70, 70, 80, 55, 60, 50, 40, 45, 65, 40, 55, 40, 70, 40, 40, 75, 45, 60, 70, 75, 70, 60, 45, 60, 55, 50, 65, 50, 60, 40, 40, 75, 35, 60, 40, 60, 30, 30, 55, 65, 45, 65, 45, 35, 65, 50, 40, 60, 50, 60, 45, 45, 55, 50, 50, 60, 50, 50, 50, 55, 65, 60, 60, 50, 50, 50, 35, 75, 75, 30, 50, 45, 85, 50, 50, 45, 40, 40, 30, 65, 40, 55, 50, 50, 55, 65, 65, 45, 60, 50, 65, 80, 45, 40, 50, 75, 65, 75, 55, 60, 50, 45, 45, 60, 60, 70, 65, 45, 45, 50, 30, 55, 60, 55, 30, 40, 30, 55, 45, 70, 60, 65, 45, 45, 55, 60, 55, 75, 70, 45, 75, 65, 40, 75, 50, 40, 65, 75, 40, 70, 45, 70, 65, 50, 60, 60, 75, 55, 45, 55, 60, 40, 40, 60, 35, 60, 50, 55, 50, 60, 55, 55, 50, 75, 55, 55, 65, 40, 60, 70, 50, 40, 55, 55, 60, 50, 50, 60, 60, 55, 70, 50, 55, 60, 50, 75, 45, 50, 65, 50, 60, 50, 65, 65, 60, 45, 55, 55, 45, 35, 40, 50, 45, 55, 55, 75, 55, 55, 70, 55, 40, 50, 50, 50, 60, 65, 55, 70, 45, 60, 45, 75, 65, 75, 65, 40, 55, 55, 65, 75, 50, 70, 45, 75, 50, 45, 75, 50, 70, 50, 40, 50, 30, 65, 65, 55, 60, 40, 40, 50, 45, 40, 55, 55, 35, 40, 65, 70, 45, 45, 50, 75, 35, 50, 55, 45, 40, 55, 55, 55, 50, 40, 65, 40, 65, 60, 50, 40, 60, 40, 60, 55, 55, 35, 45, 50, 55, 45, 40, 45, 60, 55, 65, 45, 65, 45, 45, 50, 50, 75, 70, 45, 50, 45, 55, 40, 65, 85, 55, 70, 45, 65, 50, 65, 35, 45, 80, 75, 70, 40, 60, 65, 45, 60, 70, 55, 65, 65, 60, 65, 55, 65, 75, 30, 85, 50, 65, 85, 45, 65, 45, 55, 55, 60, 50, 40, 70, 65, 75, 65, 70, 50, 50, 50, 80, 70, 40, 65, 75, 45, 55, 60, 40, 60, 55, 35, 70, 60, 40, 65, 55, 65, 50, 75, 65, 40, 45, 50, 40, 40, 75, 55, 70, 75, 65, 35, 65, 50, 40, 45, 55, 55, 50, 45, 55, 55, 40, 60, 65, 70, 70, 45, 50, 65, 65, 45, 50, 40, 55, 60, 75, 65, 65, 75, 70, 50, 30, 65, 40, 50, 50, 75, 50, 85, 55, 55, 65, 60, 60, 65, 60, 50, 40, 55, 50, 60, 60, 55, 45, 40, 50, 40, 65, 45, 70, 75, 70, 40, 60, 85, 65, 55, 60, 70, 35, 50, 60, 70, 50, 60, 55, 40, 40, 60, 70, 40, 40, 55, 80, 80, 75, 70, 55, 45, 35, 55, 50, 55, 35, 50, 35, 75, 60, 30, 40, 65, 55, 50, 45, 60, 50, 60, 60, 70, 65, 65, 55, 40, 45, 45, 40, 60, 55, 60, 30, 55, 50, 75, 40, 60, 65, 60, 60, 45, 60, 65, 70, 35, 65, 55, 55, 55, 55, 55, 30, 75, 75, 50, 75, 55, 70, 55, 55, 60, 40, 50, 40, 50, 65, 75, 70, 40, 55, 35, 65, 50, 65, 50, 60, 45, 65, 55, 75, 65, 60, 65, 65, 75, 75, 55, 55, 55, 60, 30, 50, 50, 50, 55, 60, 55, 55, 50, 50, 55, 50, 45, 65, 60, 55, 50, 40, 60, 55, 55, 30, 55, 65, 65, 30, 50, 75, 50, 60, 45, 50, 75, 60, 85, 50, 40, 40, 50, 65, 55, 55, 50, 45, 60, 65, 60, 50, 55, 75, 60, 70, 45, 40, 65, 65, 45, 70, 45, 60, 65, 60, 75, 70, 50, 70, 65, 60, 55, 55, 35, 60, 45, 50, 50, 40, 45, 45, 65, 55, 60, 50, 50, 80, 75, 75, 45, 75, 60, 65, 50, 60, 50, 55, 40, 45, 55, 35, 45, 60, 40, 55, 60, 70, 55, 50, 50, 65, 30, 70, 70, 35, 55, 40, 65, 65, 60, 40, 50, 65, 50, 65, 75, 70, 50, 60, 40, 55, 65, 40, 50, 65, 45, 45, 60, 40, 45, 75, 60, 65, 65, 50, 30, 60, 35, 60, 65, 75, 40, 65, 65, 65, 55, 65, 60, 45, 30, 40, 60, 50, 65, 70, 40, 40, 55, 70, 60, 75, 40, 85, 40, 85, 50, 45, 50, 45, 50, 50, 45, 50, 55, 55, 75, 60, 75, 70, 40, 65, 45, 65, 70, 60, 55, 40, 50, 70, 55, 45, 40, 85, 45, 50, 40, 55, 55, 45, 65, 65, 70, 55, 45, 40, 40, 30, 85, 75, 45, 75, 65, 45, 65, 55, 50, 65, 40, 45, 50, 40, 50, 60, 50, 60, 40, 60, 50, 65, 65, 70, 50, 50, 50, 45, 65, 50, 65, 45, 60, 40, 35, 50, 30, 40]\n",
            "list of workouts:  [5, 4, 4, 4, 3, 3, 3, 5, 3, 4, 3, 3, 4, 3, 4, 5, 5, 3, 2, 4, 3, 4, 4, 4, 2, 3, 4, 4, 4, 3, 4, 3, 5, 4, 3, 4, 4, 3, 4, 3, 3, 4, 4, 4, 4, 2, 4, 4, 3, 4, 2, 3, 4, 4, 4, 4, 5, 4, 3, 3, 3, 4, 3, 3, 4, 4, 4, 4, 4, 4, 3, 3, 4, 3, 4, 3, 3, 3, 3, 4, 2, 3, 3, 5, 4, 4, 3, 4, 4, 3, 4, 3, 3, 4, 4, 3, 4, 3, 3, 4, 4, 3, 4, 3, 4, 4, 4, 4, 3, 3, 3, 4, 4, 3, 4, 4, 4, 3, 4, 3, 4, 3, 4, 3, 4, 3, 5, 5, 4, 4, 4, 4, 3, 4, 4, 4, 4, 4, 4, 4, 3, 4, 4, 3, 4, 3, 4, 4, 4, 3, 3, 4, 3, 4, 3, 4, 4, 3, 4, 3, 3, 3, 4, 3, 2, 4, 4, 3, 3, 4, 3, 4, 3, 3, 3, 3, 4, 2, 4, 5, 4, 3, 4, 4, 3, 3, 2, 4, 3, 4, 4, 4, 3, 4, 4, 4, 3, 4, 4, 3, 4, 3, 3, 3, 3, 3, 4, 3, 4, 4, 3, 4, 3, 4, 4, 3, 5, 3, 4, 3, 5, 5, 4, 3, 4, 3, 4, 5, 3, 4, 4, 3, 4, 3, 4, 4, 4, 4, 4, 3, 4, 4, 4, 4, 3, 3, 3, 4, 4, 4, 5, 3, 3, 5, 4, 4, 2, 4, 4, 4, 4, 4, 5, 3, 4, 4, 4, 4, 4, 3, 3, 4, 3, 4, 3, 2, 4, 4, 4, 3, 3, 3, 4, 3, 4, 4, 4, 3, 3, 3, 3, 4, 4, 4, 5, 4, 3, 4, 5, 4, 5, 4, 4, 3, 3, 3, 4, 4, 4, 3, 4, 3, 3, 4, 3, 3, 4, 3, 4, 4, 3, 3, 4, 3, 4, 3, 3, 4, 3, 3, 3, 4, 4, 4, 3, 4, 4, 3, 5, 3, 4, 4, 4, 3, 4, 4, 4, 3, 4, 4, 3, 4, 3, 3, 4, 4, 4, 4, 3, 4, 4, 3, 3, 4, 3, 4, 4, 3, 4, 3, 4, 4, 3, 4, 3, 4, 3, 3, 3, 4, 4, 4, 4, 5, 4, 4, 4, 4, 4, 3, 4, 4, 3, 4, 4, 4, 4, 4, 3, 3, 4, 3, 4, 3, 4, 3, 3, 3, 3, 4, 4, 4, 3, 3, 4, 3, 4, 3, 4, 4, 3, 4, 3, 4, 4, 4, 5, 3, 3, 4, 3, 4, 4, 4, 4, 4, 4, 4, 5, 4, 3, 3, 4, 4, 4, 3, 5, 4, 4, 4, 4, 4, 4, 4, 4, 4, 3, 4, 3, 3, 4, 4, 3, 4, 3, 4, 4, 5, 4, 4, 4, 4, 4, 4, 3, 4, 3, 4, 3, 4, 4, 4, 4, 3, 3, 4, 4, 4, 4, 4, 3, 2, 4, 3, 4, 3, 4, 3, 5, 4, 2, 3, 3, 4, 3, 3, 4, 3, 3, 4, 3, 3, 3, 3, 4, 3, 3, 5, 2, 4, 3, 2, 4, 3, 4, 4, 4, 3, 4, 4, 3, 3, 3, 3, 3, 4, 4, 4, 2, 3, 4, 3, 3, 4, 4, 3, 4, 3, 4, 5, 3, 3, 4, 3, 4, 3, 4, 3, 3, 4, 4, 4, 4, 4, 3, 4, 3, 3, 3, 5, 3, 4, 4, 4, 4, 4, 4, 4, 4, 4, 4, 3, 3, 3, 3, 4, 4, 3, 3, 4, 4, 4, 4, 3, 3, 3, 3, 3, 3, 4, 5, 3, 4, 4, 4, 3, 4, 2, 4, 4, 3, 3, 3, 3, 3, 4, 4, 4, 4, 3, 3, 4, 4, 4, 4, 4, 3, 4, 3, 3, 3, 4, 3, 2, 3, 4, 3, 3, 5, 4, 3, 3, 4, 3, 4, 4, 4, 3, 3, 4, 4, 4, 2, 2, 3, 3, 4, 4, 5, 4, 4, 4, 5, 4, 5, 3, 3, 5, 4, 3, 4, 4, 4, 3, 4, 3, 3, 3, 3, 3, 4, 4, 4, 4, 4, 3, 4, 3, 5, 4, 4, 3, 4, 3, 3, 3, 3, 4, 3, 3, 3, 5, 3, 4, 4, 4, 4, 4, 5, 3, 3, 4, 3, 4, 3, 4, 4, 3, 4, 4, 4, 4, 3, 3, 3, 4, 4, 5, 3, 4, 3, 4, 3, 4, 3, 4, 3, 3, 3, 3, 3, 3, 3, 4, 4, 4, 3, 5, 4, 4, 4, 4, 3, 4, 4, 4, 4, 4, 4, 4, 3, 3, 4, 4, 4, 3, 4, 4, 5, 4, 3, 3, 5, 4, 3, 4, 3, 4, 4, 3, 3, 2, 4, 4, 4, 4, 3, 4, 4, 4, 4, 3, 3, 3, 4, 4, 3, 3, 3, 4, 4, 3, 3, 4, 3, 4, 3, 3, 3, 3, 3, 4, 3, 3, 3, 4, 4, 5, 3, 4, 4, 4, 4, 4, 4, 3, 4, 3, 4, 4, 2, 3, 3, 4, 3, 3, 3, 4, 3, 4, 4, 4, 4, 4, 5, 4, 3, 4, 4, 3, 3, 4, 4, 4, 3, 5, 3, 3, 5, 4, 4, 3, 3, 3, 4, 4, 3, 4, 3, 3, 3, 4, 3, 4, 4, 3, 4, 4, 3, 4, 4, 3, 4, 4, 3, 3, 3, 3, 4, 5, 3, 5, 3, 3, 3, 4, 3, 3, 3, 4, 3, 3, 4, 5, 4, 3, 4, 3, 3, 4, 4, 4, 3, 3, 3, 4, 2, 4, 2, 4, 4, 4, 4, 4, 4, 4, 4, 4, 4, 3, 3, 3, 3, 4, 3, 4, 3, 3, 3, 4, 4, 4, 3, 4, 4, 4, 2, 4, 4, 4, 4, 4, 4, 3, 3, 3, 4, 4, 4, 4, 5, 2, 3, 4, 3, 3, 4, 3, 4, 4, 3, 4, 4, 4, 4, 4, 3, 4, 3, 4, 3, 4, 3, 3, 3, 4, 4, 4, 4, 3, 4, 3, 4, 3, 4, 5, 4, 5, 4]\n"
          ]
        }
      ]
    },
    {
      "cell_type": "code",
      "source": [
        "ds['Final Outcome'] = fin_outcome\n",
        "ds.to_csv('ds.csv')\n",
        "\n",
        "ds['Workout'] = workout                           \n",
        "ds.to_csv('ds.csv') \n",
        "\n",
        "print(ds)"
      ],
      "metadata": {
        "colab": {
          "base_uri": "https://localhost:8080/"
        },
        "id": "71htuwyoPEIe",
        "outputId": "3db5ca96-2ff7-4eec-946a-43d045f320bc"
      },
      "execution_count": null,
      "outputs": [
        {
          "output_type": "stream",
          "name": "stdout",
          "text": [
            "     Age  Gender  Weight  Resting HR  Athletic Goal  Final Outcome  Workout\n",
            "0     28       1     147          88              2             35        5\n",
            "1     45       0     134          87              1             50        4\n",
            "2     58       1     183          89              2             45        4\n",
            "3     21       1     154          89              1             55        4\n",
            "4     53       1     130          92              0             75        3\n",
            "..   ...     ...     ...         ...            ...            ...      ...\n",
            "994   40       0     172          54              2             40        4\n",
            "995   41       1     166          84              2             35        5\n",
            "996   46       0     145          70              0             50        4\n",
            "997   26       0     188          69              2             30        5\n",
            "998   30       0     208          83              2             40        4\n",
            "\n",
            "[999 rows x 7 columns]\n"
          ]
        }
      ]
    },
    {
      "cell_type": "code",
      "source": [
        "ind_fin_outcome = []\n",
        "ind_outcome = []\n",
        "\n",
        "def predict_workout(age, gender, weight, hr, ag):\n",
        "\n",
        "  if weight - mw < sw:\n",
        "    ind_outcome.append(10)\n",
        "  elif weight - mw < 2*sw:\n",
        "    ind_outcome.append(20)\n",
        "  elif weight - mw < 3*sw:\n",
        "    ind_outcome.append(30)\n",
        "  else:\n",
        "    ind_outcome.append(40)\n",
        "\n",
        "  if (age - ma) < sa:\n",
        "    ind_outcome.append(10)\n",
        "  elif (age - ma) < 2*sa:\n",
        "    ind_outcome.append(20)\n",
        "  elif (age - ma) < 3*sa:\n",
        "    ind_outcome.append(30)\n",
        "  else:\n",
        "    ind_outcome.append(40)\n",
        "\n",
        "  if hr - mhr < shr:\n",
        "    ind_outcome.append(10)\n",
        "  elif hr - mhr < 2*shr:\n",
        "    ind_outcome.append(20)\n",
        "  elif hr - mhr < 3*shr:\n",
        "    ind_outcome.append(30)\n",
        "  else:\n",
        "    ind_outcome.append(40)\n",
        "  \n",
        "  # female is 1\n",
        "  if gender > 0:\n",
        "    ind_outcome.append(5)\n",
        "  else: \n",
        "    ind_outcome.append(0)\n",
        "\n",
        "  if ag == 0:\n",
        "    ind_outcome.append(20)\n",
        "  elif ag == 1:\n",
        "    ind_outcome.append(10)\n",
        "  else:\n",
        "    ind_outcome.append(0)\n",
        "\n",
        "  ind_final_outcome = sum(ind_outcome)\n",
        "  fin_outcome.append(ind_final_outcome)\n",
        "\n",
        "  if ind_final_outcome in range(0,40):\n",
        "    ind_workout = 5\n",
        "    print('use workout 5 located at: https://github.com/samanthashelton1313/CS32-Final-Project/blob/821934bd1eb98f6f3713d2ae92d36ac3603800f4/Workout%20%235%20Advanced%20.pdf' )\n",
        "  if ind_final_outcome in range(40,60):\n",
        "    ind_workout = 4\n",
        "    print('use workout 4 located at: https://github.com/samanthashelton1313/CS32-Final-Project/blob/821934bd1eb98f6f3713d2ae92d36ac3603800f4/Workout%20%234%20Intermediate%20to%20Advanced%20.pdf')\n",
        "  if ind_final_outcome in range(60,80):\n",
        "    ind_workout = 3\n",
        "    print('use workout 3 located at: https://github.com/samanthashelton1313/CS32-Final-Project/blob/821934bd1eb98f6f3713d2ae92d36ac3603800f4/Workout%20%233%20Intermediate%20.pdf')\n",
        "  if ind_final_outcome in range(80,105):\n",
        "    ind_workout = 2\n",
        "    print('use workout 2 located at: https://github.com/samanthashelton1313/CS32-Final-Project/blob/821934bd1eb98f6f3713d2ae92d36ac3603800f4/Workout%20%232%20Mid-Level%20Beginner%20.pdf')\n",
        "  if ind_final_outcome in range(105,200):\n",
        "    ind_workout = 1 \n",
        "    print('use workout 1 located at: https://github.com/samanthashelton1313/CS32-Final-Project/blob/821934bd1eb98f6f3713d2ae92d36ac3603800f4/Workout%20%231%20Beginner%20.pdf')\n",
        "  print(ind_final_outcome)\n",
        "\n",
        "#  test\n",
        "predict_workout(float(input('Your age: ')), float(input('Gender, where 0 is male & 1 is female: ')), float(input('Your weight: ')), float(input('Your Heart Rate in a resting position: ')), float(input('How hard would you like the workout be (where 0-easy, 1-moderate, 2-difficult)')))\n",
        "\n"
      ],
      "metadata": {
        "colab": {
          "base_uri": "https://localhost:8080/"
        },
        "id": "y0MyiQ_3-efe",
        "outputId": "14ac8d33-f9ad-44c3-e414-803e7bc4785c"
      },
      "execution_count": null,
      "outputs": [
        {
          "output_type": "stream",
          "name": "stdout",
          "text": [
            "Your age: 22\n",
            "Gender, where 0 is male & 1 is female: 1\n",
            "Your weight: 150\n",
            "Your Heart Rate in a resting position: 65\n",
            "How hard would you like the workout be (where 0-easy, 1-moderate, 2-difficult)2\n",
            "use workout 5 located at: https://github.com/samanthashelton1313/CS32-Final-Project/blob/821934bd1eb98f6f3713d2ae92d36ac3603800f4/Workout%20%235%20Advanced%20.pdf\n",
            "35\n"
          ]
        }
      ]
    },
    {
      "cell_type": "code",
      "source": [
        "X = ds.drop(['Workout'], axis = 1)\n",
        "y = ds['Workout']"
      ],
      "metadata": {
        "id": "b5jv2EDmANIh"
      },
      "execution_count": null,
      "outputs": []
    },
    {
      "cell_type": "code",
      "source": [
        "X.head()"
      ],
      "metadata": {
        "colab": {
          "base_uri": "https://localhost:8080/",
          "height": 206
        },
        "id": "HhuMQNBN9DvI",
        "outputId": "efe08ef5-897c-4255-b010-88e22f13b060"
      },
      "execution_count": null,
      "outputs": [
        {
          "output_type": "execute_result",
          "data": {
            "text/plain": [
              "   Age  Gender  Weight  Resting HR  Athletic Goal  Final Outcome\n",
              "0   28       1     147          88              2             35\n",
              "1   45       0     134          87              1             50\n",
              "2   58       1     183          89              2             45\n",
              "3   21       1     154          89              1             55\n",
              "4   53       1     130          92              0             75"
            ],
            "text/html": [
              "\n",
              "  <div id=\"df-47eda589-fc03-44cf-80e8-cb973e9eb84e\">\n",
              "    <div class=\"colab-df-container\">\n",
              "      <div>\n",
              "<style scoped>\n",
              "    .dataframe tbody tr th:only-of-type {\n",
              "        vertical-align: middle;\n",
              "    }\n",
              "\n",
              "    .dataframe tbody tr th {\n",
              "        vertical-align: top;\n",
              "    }\n",
              "\n",
              "    .dataframe thead th {\n",
              "        text-align: right;\n",
              "    }\n",
              "</style>\n",
              "<table border=\"1\" class=\"dataframe\">\n",
              "  <thead>\n",
              "    <tr style=\"text-align: right;\">\n",
              "      <th></th>\n",
              "      <th>Age</th>\n",
              "      <th>Gender</th>\n",
              "      <th>Weight</th>\n",
              "      <th>Resting HR</th>\n",
              "      <th>Athletic Goal</th>\n",
              "      <th>Final Outcome</th>\n",
              "    </tr>\n",
              "  </thead>\n",
              "  <tbody>\n",
              "    <tr>\n",
              "      <th>0</th>\n",
              "      <td>28</td>\n",
              "      <td>1</td>\n",
              "      <td>147</td>\n",
              "      <td>88</td>\n",
              "      <td>2</td>\n",
              "      <td>35</td>\n",
              "    </tr>\n",
              "    <tr>\n",
              "      <th>1</th>\n",
              "      <td>45</td>\n",
              "      <td>0</td>\n",
              "      <td>134</td>\n",
              "      <td>87</td>\n",
              "      <td>1</td>\n",
              "      <td>50</td>\n",
              "    </tr>\n",
              "    <tr>\n",
              "      <th>2</th>\n",
              "      <td>58</td>\n",
              "      <td>1</td>\n",
              "      <td>183</td>\n",
              "      <td>89</td>\n",
              "      <td>2</td>\n",
              "      <td>45</td>\n",
              "    </tr>\n",
              "    <tr>\n",
              "      <th>3</th>\n",
              "      <td>21</td>\n",
              "      <td>1</td>\n",
              "      <td>154</td>\n",
              "      <td>89</td>\n",
              "      <td>1</td>\n",
              "      <td>55</td>\n",
              "    </tr>\n",
              "    <tr>\n",
              "      <th>4</th>\n",
              "      <td>53</td>\n",
              "      <td>1</td>\n",
              "      <td>130</td>\n",
              "      <td>92</td>\n",
              "      <td>0</td>\n",
              "      <td>75</td>\n",
              "    </tr>\n",
              "  </tbody>\n",
              "</table>\n",
              "</div>\n",
              "      <button class=\"colab-df-convert\" onclick=\"convertToInteractive('df-47eda589-fc03-44cf-80e8-cb973e9eb84e')\"\n",
              "              title=\"Convert this dataframe to an interactive table.\"\n",
              "              style=\"display:none;\">\n",
              "        \n",
              "  <svg xmlns=\"http://www.w3.org/2000/svg\" height=\"24px\"viewBox=\"0 0 24 24\"\n",
              "       width=\"24px\">\n",
              "    <path d=\"M0 0h24v24H0V0z\" fill=\"none\"/>\n",
              "    <path d=\"M18.56 5.44l.94 2.06.94-2.06 2.06-.94-2.06-.94-.94-2.06-.94 2.06-2.06.94zm-11 1L8.5 8.5l.94-2.06 2.06-.94-2.06-.94L8.5 2.5l-.94 2.06-2.06.94zm10 10l.94 2.06.94-2.06 2.06-.94-2.06-.94-.94-2.06-.94 2.06-2.06.94z\"/><path d=\"M17.41 7.96l-1.37-1.37c-.4-.4-.92-.59-1.43-.59-.52 0-1.04.2-1.43.59L10.3 9.45l-7.72 7.72c-.78.78-.78 2.05 0 2.83L4 21.41c.39.39.9.59 1.41.59.51 0 1.02-.2 1.41-.59l7.78-7.78 2.81-2.81c.8-.78.8-2.07 0-2.86zM5.41 20L4 18.59l7.72-7.72 1.47 1.35L5.41 20z\"/>\n",
              "  </svg>\n",
              "      </button>\n",
              "      \n",
              "  <style>\n",
              "    .colab-df-container {\n",
              "      display:flex;\n",
              "      flex-wrap:wrap;\n",
              "      gap: 12px;\n",
              "    }\n",
              "\n",
              "    .colab-df-convert {\n",
              "      background-color: #E8F0FE;\n",
              "      border: none;\n",
              "      border-radius: 50%;\n",
              "      cursor: pointer;\n",
              "      display: none;\n",
              "      fill: #1967D2;\n",
              "      height: 32px;\n",
              "      padding: 0 0 0 0;\n",
              "      width: 32px;\n",
              "    }\n",
              "\n",
              "    .colab-df-convert:hover {\n",
              "      background-color: #E2EBFA;\n",
              "      box-shadow: 0px 1px 2px rgba(60, 64, 67, 0.3), 0px 1px 3px 1px rgba(60, 64, 67, 0.15);\n",
              "      fill: #174EA6;\n",
              "    }\n",
              "\n",
              "    [theme=dark] .colab-df-convert {\n",
              "      background-color: #3B4455;\n",
              "      fill: #D2E3FC;\n",
              "    }\n",
              "\n",
              "    [theme=dark] .colab-df-convert:hover {\n",
              "      background-color: #434B5C;\n",
              "      box-shadow: 0px 1px 3px 1px rgba(0, 0, 0, 0.15);\n",
              "      filter: drop-shadow(0px 1px 2px rgba(0, 0, 0, 0.3));\n",
              "      fill: #FFFFFF;\n",
              "    }\n",
              "  </style>\n",
              "\n",
              "      <script>\n",
              "        const buttonEl =\n",
              "          document.querySelector('#df-47eda589-fc03-44cf-80e8-cb973e9eb84e button.colab-df-convert');\n",
              "        buttonEl.style.display =\n",
              "          google.colab.kernel.accessAllowed ? 'block' : 'none';\n",
              "\n",
              "        async function convertToInteractive(key) {\n",
              "          const element = document.querySelector('#df-47eda589-fc03-44cf-80e8-cb973e9eb84e');\n",
              "          const dataTable =\n",
              "            await google.colab.kernel.invokeFunction('convertToInteractive',\n",
              "                                                     [key], {});\n",
              "          if (!dataTable) return;\n",
              "\n",
              "          const docLinkHtml = 'Like what you see? Visit the ' +\n",
              "            '<a target=\"_blank\" href=https://colab.research.google.com/notebooks/data_table.ipynb>data table notebook</a>'\n",
              "            + ' to learn more about interactive tables.';\n",
              "          element.innerHTML = '';\n",
              "          dataTable['output_type'] = 'display_data';\n",
              "          await google.colab.output.renderOutput(dataTable, element);\n",
              "          const docLink = document.createElement('div');\n",
              "          docLink.innerHTML = docLinkHtml;\n",
              "          element.appendChild(docLink);\n",
              "        }\n",
              "      </script>\n",
              "    </div>\n",
              "  </div>\n",
              "  "
            ]
          },
          "metadata": {},
          "execution_count": 150
        }
      ]
    },
    {
      "cell_type": "code",
      "source": [
        "y.head()"
      ],
      "metadata": {
        "colab": {
          "base_uri": "https://localhost:8080/"
        },
        "id": "IepbypFS9Lbu",
        "outputId": "2a9adf2c-33c9-494f-d0fc-c0b8dc7a58d0"
      },
      "execution_count": null,
      "outputs": [
        {
          "output_type": "execute_result",
          "data": {
            "text/plain": [
              "0    5\n",
              "1    4\n",
              "2    4\n",
              "3    4\n",
              "4    3\n",
              "Name: Workout, dtype: int64"
            ]
          },
          "metadata": {},
          "execution_count": 151
        }
      ]
    },
    {
      "cell_type": "code",
      "source": [
        "from sklearn.model_selection import train_test_split\n",
        "X_train, X_test, y_train, y_test = train_test_split(X, y, test_size = 0.2, random_state = 0)"
      ],
      "metadata": {
        "id": "xT1-sHXkAGjP"
      },
      "execution_count": null,
      "outputs": []
    },
    {
      "cell_type": "code",
      "source": [
        "from sklearn.tree import DecisionTreeClassifier"
      ],
      "metadata": {
        "id": "rSLvl3lH_sZL"
      },
      "execution_count": null,
      "outputs": []
    },
    {
      "cell_type": "code",
      "source": [
        "dt_model = DecisionTreeClassifier()\n",
        "dt_model.fit(X_train, y_train)"
      ],
      "metadata": {
        "id": "X5ewN7yJ_4WH",
        "colab": {
          "base_uri": "https://localhost:8080/"
        },
        "outputId": "ea44d646-ed09-4971-a760-c643756d315d"
      },
      "execution_count": null,
      "outputs": [
        {
          "output_type": "execute_result",
          "data": {
            "text/plain": [
              "DecisionTreeClassifier()"
            ]
          },
          "metadata": {},
          "execution_count": 154
        }
      ]
    },
    {
      "cell_type": "code",
      "source": [
        "dt_model.predict(X_test)"
      ],
      "metadata": {
        "colab": {
          "base_uri": "https://localhost:8080/"
        },
        "id": "Fts_Jrb4B0gZ",
        "outputId": "5eb00dfe-a2a8-4eaf-ba9f-58e76c0f1254"
      },
      "execution_count": null,
      "outputs": [
        {
          "output_type": "execute_result",
          "data": {
            "text/plain": [
              "array([3, 3, 4, 3, 5, 3, 3, 4, 3, 4, 4, 4, 3, 3, 4, 3, 3, 3, 4, 5, 3, 3,\n",
              "       4, 4, 3, 3, 4, 4, 3, 4, 4, 4, 4, 3, 3, 4, 4, 3, 4, 5, 4, 3, 3, 2,\n",
              "       4, 4, 5, 4, 4, 4, 4, 4, 4, 4, 3, 4, 4, 4, 3, 3, 4, 2, 4, 5, 4, 4,\n",
              "       3, 4, 4, 4, 4, 4, 4, 4, 4, 4, 3, 3, 3, 3, 4, 4, 4, 3, 4, 3, 3, 4,\n",
              "       5, 3, 4, 3, 4, 3, 4, 4, 3, 3, 4, 4, 3, 3, 4, 3, 4, 3, 4, 3, 3, 3,\n",
              "       3, 4, 4, 4, 3, 3, 4, 3, 3, 4, 3, 4, 4, 4, 3, 3, 4, 2, 3, 3, 3, 4,\n",
              "       3, 3, 3, 4, 4, 3, 3, 5, 4, 4, 3, 3, 4, 4, 3, 3, 4, 4, 4, 4, 4, 4,\n",
              "       4, 4, 3, 3, 3, 3, 3, 3, 3, 4, 3, 4, 3, 4, 3, 3, 3, 5, 4, 3, 4, 4,\n",
              "       4, 4, 3, 3, 3, 3, 4, 4, 3, 4, 4, 4, 3, 3, 4, 3, 4, 4, 2, 3, 4, 3,\n",
              "       4, 4])"
            ]
          },
          "metadata": {},
          "execution_count": 155
        }
      ]
    },
    {
      "cell_type": "code",
      "source": [
        "pred = dt_model.predict(X_test)"
      ],
      "metadata": {
        "id": "THI2dmI-B6GX"
      },
      "execution_count": null,
      "outputs": []
    },
    {
      "cell_type": "code",
      "source": [
        "np.mean(pred == y_test)"
      ],
      "metadata": {
        "colab": {
          "base_uri": "https://localhost:8080/"
        },
        "id": "T-meGbWkB--p",
        "outputId": "f39b155e-b6f0-4d4e-9c84-fef55fd481dd"
      },
      "execution_count": null,
      "outputs": [
        {
          "output_type": "execute_result",
          "data": {
            "text/plain": [
              "1.0"
            ]
          },
          "metadata": {},
          "execution_count": 157
        }
      ]
    }
  ]
}